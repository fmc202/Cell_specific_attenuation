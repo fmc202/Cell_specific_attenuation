{
 "cells": [
  {
   "cell_type": "code",
   "execution_count": 11,
   "metadata": {},
   "outputs": [],
   "source": [
    "import numpy as np\n",
    "from clipping import get_fraction"
   ]
  },
  {
   "cell_type": "code",
   "execution_count": 12,
   "metadata": {},
   "outputs": [],
   "source": [
    "x_arr = np.linspace(1,10,100)\n",
    "y_arr = np.linspace(1,10,100)"
   ]
  },
  {
   "cell_type": "code",
   "execution_count": 13,
   "metadata": {},
   "outputs": [],
   "source": [
    "def compute_code(x, y, x_min, y_min, x_max, y_max):\n",
    "    \"\"\"called internally by clip_cell function\n",
    "\n",
    "    Args:\n",
    "        x (double): x coordinate of one endpoint of the path\n",
    "        y (double): y coordinate of one endpoint of the path\n",
    "        x_min (double): min x coordinate of the cell\n",
    "        y_min (double): min y of the cell\n",
    "        x_max (double): max x of the cell\n",
    "        y_max (double): max y of the cell\n",
    "\n",
    "    Returns:\n",
    "        int64: region code of point(x,y)\n",
    "    \"\"\"\n",
    "\n",
    "    inside = 0\n",
    "    left = 1\n",
    "    right = 2\n",
    "    bottom = 4\n",
    "    top = 8\n",
    "    code = inside\n",
    "\n",
    "    if x < x_min:\n",
    "        code = code | left\n",
    "    elif x > x_max:\n",
    "        code = code | right\n",
    "\n",
    "    if y < y_min:\n",
    "        code = code | bottom\n",
    "    elif y > y_max:\n",
    "        code = code | top\n",
    "\n",
    "    return code\n",
    "\n",
    "\n",
    "def clip_cell(x1, y1, x2, y2, x_min, y_min, x_max, y_max):\n",
    "    \"\"\"get the fraction of length in a cell given the two endpoints of a path\n",
    "\n",
    "    Args:\n",
    "        x1 (f8): x coord of point 1\n",
    "        y1 (f8): y coord of point 1\n",
    "        x2 (f8): x coord of point 2\n",
    "        y2 (f8): y coord of point 2\n",
    "        x_min (f8): cell coord defined as in compute code\n",
    "        y_min (f8): cell coord defined as in compute code\n",
    "        x_max (f8): cell coord defined as in compute code\n",
    "        y_max (f8): cell coord defined as in compute code\n",
    "\n",
    "    Returns:\n",
    "        f8: length in the cell in fraction\n",
    "    \"\"\"\n",
    "    left = 1\n",
    "    right = 2\n",
    "    bottom = 4\n",
    "    top = 8\n",
    "\n",
    "    code1 = compute_code(x1, y1, x_min, y_min, x_max, y_max)\n",
    "    code2 = compute_code(x2, y2, x_min, y_min, x_max, y_max)\n",
    "    length = np.sqrt((x1 - x2) ** 2 + (y1 - y2) ** 2)\n",
    "\n",
    "    while True:\n",
    "        if code1 == 0 and code2 == 0:\n",
    "            R = np.sqrt((x1 - x2) ** 2 + (y1 - y2) ** 2) / length\n",
    "            break\n",
    "        elif (code1 & code2) != 0:\n",
    "            R = 0\n",
    "            break\n",
    "        else:\n",
    "            if code1 != 0:\n",
    "                code_out = code1\n",
    "            else:\n",
    "                code_out = code2\n",
    "\n",
    "            if code_out & top:\n",
    "                x = x1 + (x2 - x1) * (y_max - y1) / (y2 - y1)\n",
    "                y = y_max\n",
    "            elif code_out & bottom:\n",
    "                x = x1 + (x2 - x1) * (y_min - y1) / (y2 - y1)\n",
    "                y = y_min\n",
    "            elif code_out & right:\n",
    "                y = y1 + (y2 - y1) * (x_max - x1) / (x2 - x1)\n",
    "                x = x_max\n",
    "            elif code_out & left:\n",
    "                y = y1 + (y2 - y1) * (x_min - x1) / (x2 - x1)\n",
    "                x = x_min\n",
    "\n",
    "            if code_out == code1:\n",
    "                x1 = x\n",
    "                y1 = y\n",
    "                code1 = compute_code(x1, y1, x_min, y_min, x_max, y_max)\n",
    "            else:\n",
    "                x2 = x\n",
    "                y2 = y\n",
    "                code2 = compute_code(x2, y2, x_min, y_min, x_max, y_max)\n",
    "\n",
    "    return R\n",
    "\n",
    "\n",
    "def get_fraction_slow(x, y, X1, Y1, X2, Y2, R):\n",
    "    \"\"\"compute length in all cells for all data\n",
    "\n",
    "    Args:\n",
    "        x (1d-array): spacing of x in a meshgrid (e.g x is the argument in np.meshgrid(x,y))\n",
    "        y (1d-array): spacing of y in a meshgrid\n",
    "        X1 (1d-array): x coord of all point 1\n",
    "        Y1 (1d-array): y coord of all point 1\n",
    "        X2 (1d-array): x coord of all point 2\n",
    "        Y2 (1d-array): y coord of all point 2\n",
    "        R (1d-array): a vector of rupture distance\n",
    "\n",
    "    Returns:\n",
    "        2d-array: a matrix of shape (no_data,no_cell)\\n\n",
    "         with each entry representing the length in the cell (e.g. km)\n",
    "    Note: reshape mid_coord, and cells to (no_y_cell, no_x_cell) array for pcolormesh\n",
    "    \"\"\"\n",
    "\n",
    "    no_x = x.shape[0] - 1\n",
    "    no_y = y.shape[0] - 1\n",
    "    no_cell = no_x * no_y\n",
    "    no_data = X1.shape[0]\n",
    "\n",
    "    # use np.repeat instead of tile for numba compatibility\n",
    "    x_min = np.repeat(x[:-1], no_y).reshape(-1, no_y).T.flatten()  # x_min = np.tile(x[:-1], no_y)\n",
    "    x_max = np.repeat(x[1:], no_y).reshape(-1, no_y).T.flatten()  # x_max = np.tile(x[1:], no_y)\n",
    "    y_min = np.repeat(y[:-1], no_x)  # y_min = np.tile(y[:-1], no_x)\n",
    "    y_max = np.repeat(y[1:], no_x)  # y_max = np.tile(y[1:], no_x)\n",
    "\n",
    "    # try to use tuple instead of list in np.empty() to prevent type changing for numba compatibility\n",
    "    R_frac = np.empty((no_data, no_cell))\n",
    "    mid_coord = np.empty((no_cell, 2))\n",
    "\n",
    "    for i in range(no_data):\n",
    "        for j in range(no_cell):\n",
    "            R_frac[i, j] = R[i] * clip_cell(X1[i], Y1[i], X2[i], Y2[i], x_min[j], y_min[j], x_max[j], y_max[j])\n",
    "\n",
    "    for j in range(no_cell):\n",
    "        mid_coord[j, 0] = (x_min[j] + x_max[j]) / 2\n",
    "        mid_coord[j, 1] = (y_min[j] + y_max[j]) / 2\n",
    "\n",
    "    return mid_coord, R_frac"
   ]
  },
  {
   "cell_type": "code",
   "execution_count": 14,
   "metadata": {},
   "outputs": [],
   "source": [
    "mid_coord, R_frac = get_fraction_slow(x_arr,y_arr,np.array([5]),np.array([5]),np.array([7]),np.array([7]),np.array([10]))"
   ]
  },
  {
   "cell_type": "code",
   "execution_count": 16,
   "metadata": {},
   "outputs": [],
   "source": [
    "mid_coord, R_frac = get_fraction(x_arr,y_arr,np.array([5.0]),np.array([5.0]),np.array([7.0]),np.array([7.0]),np.array([10.0]))"
   ]
  },
  {
   "cell_type": "code",
   "execution_count": 18,
   "metadata": {},
   "outputs": [
    {
     "data": {
      "text/plain": [
       "10.0"
      ]
     },
     "execution_count": 18,
     "metadata": {},
     "output_type": "execute_result"
    }
   ],
   "source": [
    "np.sum(R_frac)"
   ]
  }
 ],
 "metadata": {
  "interpreter": {
   "hash": "10ee5ba721e798983b17e00e314e8f663aeff1c5371bdc95924e2822e7935ede"
  },
  "kernelspec": {
   "display_name": "Python 3.8.7 64-bit ('num_comp': venv)",
   "name": "python3"
  },
  "language_info": {
   "codemirror_mode": {
    "name": "ipython",
    "version": 3
   },
   "file_extension": ".py",
   "mimetype": "text/x-python",
   "name": "python",
   "nbconvert_exporter": "python",
   "pygments_lexer": "ipython3",
   "version": "3.8.7"
  },
  "orig_nbformat": 4
 },
 "nbformat": 4,
 "nbformat_minor": 2
}
