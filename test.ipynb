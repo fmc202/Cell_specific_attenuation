{
 "cells": [
  {
   "cell_type": "code",
   "execution_count": 6,
   "metadata": {},
   "outputs": [],
   "source": [
    "import numpy as np\n",
    "import pandas as pd\n",
    "import time\n",
    "from clipping import get_fraction"
   ]
  },
  {
   "cell_type": "code",
   "execution_count": 7,
   "metadata": {},
   "outputs": [
    {
     "name": "stdout",
     "output_type": "stream",
     "text": [
      "test result is: True\n",
      "time by python is 0.3750178813934326 sec\n",
      "[[12.56445746  9.69744702  0.64807987 20.13380468 20.13380468  7.56934722\n",
      "   8.86550696 20.13380468 19.48572481  5.70592025 20.13380468 11.26829772]]\n"
     ]
    }
   ],
   "source": [
    "df = pd.read_csv(\"./testdata.csv\")\n",
    "x_arr = np.arange(-123, -112.2, 0.2)\n",
    "y_arr = np.arange(30, 43, 0.2)\n",
    "X1 = df[\"EarthquakeLongitude\"].values\n",
    "Y1 = df[\"EarthquakeLatitude\"].values\n",
    "X2 = df[\"StationLongitude\"].values\n",
    "Y2 = df[\"StationLatitude\"].values\n",
    "R = df[\"Rrup\"].values\n",
    "\n",
    "start = time.time()\n",
    "temp1, temp2 = get_fraction(x_arr, y_arr, X1, Y1, X2, Y2, R)\n",
    "end = time.time()\n",
    "\n",
    "res = np.sum(temp2, axis=1)\n",
    "print(f\"result consistency: {np.allclose(res, R)}\")\n",
    "print(f\"taken {end-start} sec\")"
   ]
  }
 ],
 "metadata": {
  "kernelspec": {
   "display_name": "Python 3.8.7 ('num_comp')",
   "language": "python",
   "name": "python3"
  },
  "language_info": {
   "codemirror_mode": {
    "name": "ipython",
    "version": 3
   },
   "file_extension": ".py",
   "mimetype": "text/x-python",
   "name": "python",
   "nbconvert_exporter": "python",
   "pygments_lexer": "ipython3",
   "version": "3.8.7"
  },
  "orig_nbformat": 4,
  "vscode": {
   "interpreter": {
    "hash": "8b8111b84202118ee10b6f67db0fd98a472b8a442e08a9d58f3a08772f510de2"
   }
  }
 },
 "nbformat": 4,
 "nbformat_minor": 2
}
